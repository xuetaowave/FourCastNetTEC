{
 "cells": [
  {
   "cell_type": "code",
   "execution_count": 1,
   "id": "initial_id",
   "metadata": {
    "collapsed": true,
    "ExecuteTime": {
     "end_time": "2024-01-24T09:40:27.468661900Z",
     "start_time": "2024-01-24T09:40:27.399987900Z"
    }
   },
   "outputs": [],
   "source": [
    "import numpy as np\n",
    "import h5py"
   ]
  },
  {
   "cell_type": "code",
   "outputs": [
    {
     "data": {
      "text/plain": "<KeysViewHDF5 ['fields']>"
     },
     "execution_count": 2,
     "metadata": {},
     "output_type": "execute_result"
    }
   ],
   "source": [
    "data_load = h5py.File('train/2010.h5', 'r')\n",
    "data_load.keys()"
   ],
   "metadata": {
    "collapsed": false,
    "ExecuteTime": {
     "end_time": "2024-01-24T09:40:27.486288500Z",
     "start_time": "2024-01-24T09:40:27.467145300Z"
    }
   },
   "id": "152ab0a0c8eecc72",
   "execution_count": 2
  },
  {
   "cell_type": "code",
   "outputs": [
    {
     "name": "stdout",
     "output_type": "stream",
     "text": [
      "(1, 13, 1, 1)\n"
     ]
    }
   ],
   "source": [
    "data = data_load['fields']\n",
    "global_mean = np.mean(data, axis=(0, 2, 3))[None, :, None, None]\n",
    "print(global_mean.shape)\n",
    "np.save('global_means.npy', global_mean)"
   ],
   "metadata": {
    "collapsed": false,
    "ExecuteTime": {
     "end_time": "2024-01-24T09:40:28.399575900Z",
     "start_time": "2024-01-24T09:40:27.514055800Z"
    }
   },
   "id": "f25578284e85faed",
   "execution_count": 3
  },
  {
   "cell_type": "code",
   "outputs": [],
   "source": [
    "global_stds = np.std(data, axis=(0, 2, 3))[None, :, None, None]\n",
    "np.save('global_stds.npy', global_stds)"
   ],
   "metadata": {
    "collapsed": false,
    "ExecuteTime": {
     "end_time": "2024-01-24T09:40:30.162586200Z",
     "start_time": "2024-01-24T09:40:28.387570900Z"
    }
   },
   "id": "c70926d3068ad7ac",
   "execution_count": 4
  },
  {
   "cell_type": "code",
   "outputs": [
    {
     "name": "stdout",
     "output_type": "stream",
     "text": [
      "(1, 13, 128, 128)\n"
     ]
    }
   ],
   "source": [
    "time_means = np.mean(data, axis=0)[None]\n",
    "print(time_means.shape)\n",
    "np.save('time_means.npy', time_means)"
   ],
   "metadata": {
    "collapsed": false,
    "ExecuteTime": {
     "end_time": "2024-01-24T09:40:31.024706500Z",
     "start_time": "2024-01-24T09:40:30.164586500Z"
    }
   },
   "id": "e5d84c8e9cb760d8",
   "execution_count": 5
  }
 ],
 "metadata": {
  "kernelspec": {
   "display_name": "Python 3",
   "language": "python",
   "name": "python3"
  },
  "language_info": {
   "codemirror_mode": {
    "name": "ipython",
    "version": 2
   },
   "file_extension": ".py",
   "mimetype": "text/x-python",
   "name": "python",
   "nbconvert_exporter": "python",
   "pygments_lexer": "ipython2",
   "version": "2.7.6"
  }
 },
 "nbformat": 4,
 "nbformat_minor": 5
}
