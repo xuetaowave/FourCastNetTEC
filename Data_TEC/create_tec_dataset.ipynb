{
 "cells": [
  {
   "cell_type": "code",
   "execution_count": 1,
   "id": "initial_id",
   "metadata": {
    "collapsed": true,
    "ExecuteTime": {
     "end_time": "2024-01-24T09:29:46.933096500Z",
     "start_time": "2024-01-24T09:29:46.757546800Z"
    }
   },
   "outputs": [],
   "source": [
    "import h5py \n",
    "import numpy as np \n",
    "import os "
   ]
  },
  {
   "cell_type": "code",
   "outputs": [],
   "source": [
    "tec_list = []\n",
    "for year in range(2005, 2014):\n",
    "    data_load = h5py.File(os.path.join('/mnt/g/work/GIM/GIM_data', 'Step2_data_{}.mat'.format(year)))\n",
    "    tec_list.append(data_load['TECA'])\n"
   ],
   "metadata": {
    "collapsed": false,
    "ExecuteTime": {
     "end_time": "2024-01-24T09:29:47.053101Z",
     "start_time": "2024-01-24T09:29:46.954097900Z"
    }
   },
   "id": "a9f472ea4f284d41",
   "execution_count": 2
  },
  {
   "cell_type": "code",
   "outputs": [],
   "source": [
    "#zoom tec_all\n",
    "from scipy.ndimage import zoom \n",
    "tec_all = np.vstack(tec_list)\n",
    "tec_all = zoom(tec_all, (1, 128/tec_all.shape[1], 128/tec_all.shape[-1]))"
   ],
   "metadata": {
    "collapsed": false,
    "ExecuteTime": {
     "end_time": "2024-01-24T09:31:21.246361900Z",
     "start_time": "2024-01-24T09:29:47.056100Z"
    }
   },
   "id": "aac75baadfa2271a",
   "execution_count": 3
  },
  {
   "cell_type": "code",
   "outputs": [],
   "source": [
    "tec_all_reshape = tec_all[:tec_all.shape[0]//13*13].reshape((-1, 13, tec_all.shape[1], tec_all.shape[2]))"
   ],
   "metadata": {
    "collapsed": false,
    "ExecuteTime": {
     "end_time": "2024-01-24T09:31:21.249361900Z",
     "start_time": "2024-01-24T09:31:21.247362Z"
    }
   },
   "id": "a56758a0a9df7fc",
   "execution_count": 4
  },
  {
   "cell_type": "code",
   "outputs": [],
   "source": [],
   "metadata": {
    "collapsed": false,
    "ExecuteTime": {
     "end_time": "2024-01-24T09:31:21.252362100Z",
     "start_time": "2024-01-24T09:31:21.249361900Z"
    }
   },
   "id": "1d3c900115b71772",
   "execution_count": 4
  },
  {
   "cell_type": "code",
   "outputs": [],
   "source": [
    "tec_all_reshape = tec_all_reshape.transpose(0, 1, 3, 2)"
   ],
   "metadata": {
    "collapsed": false,
    "ExecuteTime": {
     "end_time": "2024-01-24T09:38:02.392167Z",
     "start_time": "2024-01-24T09:38:02.385168400Z"
    }
   },
   "id": "f38b6d260444d31c",
   "execution_count": 7
  },
  {
   "cell_type": "code",
   "outputs": [],
   "source": [
    "np.save('tec_dataset', tec_all_reshape)"
   ],
   "metadata": {
    "collapsed": false,
    "ExecuteTime": {
     "end_time": "2024-01-24T09:38:17.097973400Z",
     "start_time": "2024-01-24T09:38:04.981001300Z"
    }
   },
   "id": "84395d69684f58dd",
   "execution_count": 8
  },
  {
   "cell_type": "code",
   "outputs": [
    {
     "data": {
      "text/plain": "(3034, 13, 128, 128)"
     },
     "execution_count": 9,
     "metadata": {},
     "output_type": "execute_result"
    }
   ],
   "source": [
    "tec_all_reshape.shape"
   ],
   "metadata": {
    "collapsed": false,
    "ExecuteTime": {
     "end_time": "2024-01-24T09:38:17.101973200Z",
     "start_time": "2024-01-24T09:38:17.097973400Z"
    }
   },
   "id": "85b151a652cc1c4e",
   "execution_count": 9
  },
  {
   "cell_type": "code",
   "outputs": [],
   "source": [],
   "metadata": {
    "collapsed": false
   },
   "id": "e12f46c3d3ea8f3b"
  }
 ],
 "metadata": {
  "kernelspec": {
   "display_name": "Python 3",
   "language": "python",
   "name": "python3"
  },
  "language_info": {
   "codemirror_mode": {
    "name": "ipython",
    "version": 2
   },
   "file_extension": ".py",
   "mimetype": "text/x-python",
   "name": "python",
   "nbconvert_exporter": "python",
   "pygments_lexer": "ipython2",
   "version": "2.7.6"
  }
 },
 "nbformat": 4,
 "nbformat_minor": 5
}
