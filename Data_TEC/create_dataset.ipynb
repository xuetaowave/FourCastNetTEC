{
 "cells": [
  {
   "cell_type": "code",
   "execution_count": 1,
   "metadata": {
    "ExecuteTime": {
     "end_time": "2024-01-24T09:40:18.558382600Z",
     "start_time": "2024-01-24T09:40:18.451367200Z"
    }
   },
   "outputs": [],
   "source": [
    "import numpy as np "
   ]
  },
  {
   "cell_type": "code",
   "execution_count": 2,
   "metadata": {
    "ExecuteTime": {
     "end_time": "2024-01-24T09:40:19.695980100Z",
     "start_time": "2024-01-24T09:40:18.557878900Z"
    }
   },
   "outputs": [],
   "source": [
    "data = np.load('tec_dataset.npy')\n"
   ]
  },
  {
   "cell_type": "code",
   "execution_count": 3,
   "metadata": {
    "ExecuteTime": {
     "end_time": "2024-01-24T09:40:19.698978100Z",
     "start_time": "2024-01-24T09:40:19.695980100Z"
    }
   },
   "outputs": [
    {
     "data": {
      "text/plain": "(3034, 13, 128, 128)"
     },
     "execution_count": 3,
     "metadata": {},
     "output_type": "execute_result"
    }
   ],
   "source": [
    "data.shape"
   ]
  },
  {
   "cell_type": "code",
   "outputs": [],
   "source": [
    "train_mask = data.shape[0]//6*5"
   ],
   "metadata": {
    "collapsed": false,
    "ExecuteTime": {
     "end_time": "2024-01-24T09:40:19.703488500Z",
     "start_time": "2024-01-24T09:40:19.703488500Z"
    }
   },
   "execution_count": 4
  },
  {
   "cell_type": "code",
   "execution_count": 5,
   "metadata": {
    "ExecuteTime": {
     "end_time": "2024-01-24T09:40:19.710488300Z",
     "start_time": "2024-01-24T09:40:19.705489600Z"
    }
   },
   "outputs": [
    {
     "name": "stdout",
     "output_type": "stream",
     "text": [
      "/home/cxt/work/fourcastnet_TEC/FourCastNetTEC/Data_TEC\n"
     ]
    }
   ],
   "source": [
    "import os\n",
    "print(os.getcwd())\n",
    "os.makedirs('train', exist_ok=True)\n",
    "os.makedirs('test', exist_ok=True)\n",
    "os.makedirs('out_of_sample', exist_ok=True)"
   ]
  },
  {
   "cell_type": "code",
   "execution_count": 6,
   "metadata": {
    "ExecuteTime": {
     "end_time": "2024-01-24T09:40:23.955786100Z",
     "start_time": "2024-01-24T09:40:19.709488700Z"
    }
   },
   "outputs": [],
   "source": [
    "import h5py\n",
    "with h5py.File('train/2010.h5', 'w') as f:\n",
    "    f.create_dataset(\"fields\", data=data[:train_mask])\n",
    "    \n",
    "with h5py.File('test/2010.h5', 'w') as f:\n",
    "    f.create_dataset(\"fields\", data=data[train_mask:])\n",
    "    \n",
    "with h5py.File('out_of_sample/2010.h5', 'w') as f:\n",
    "    f.create_dataset(\"fields\", data=data[train_mask:])"
   ]
  },
  {
   "cell_type": "code",
   "execution_count": 6,
   "metadata": {
    "ExecuteTime": {
     "end_time": "2024-01-24T09:40:23.997294700Z",
     "start_time": "2024-01-24T09:40:23.956788900Z"
    }
   },
   "outputs": [],
   "source": []
  }
 ],
 "metadata": {
  "kernelspec": {
   "display_name": "castnet",
   "language": "python",
   "name": "python3"
  },
  "language_info": {
   "codemirror_mode": {
    "name": "ipython",
    "version": 3
   },
   "file_extension": ".py",
   "mimetype": "text/x-python",
   "name": "python",
   "nbconvert_exporter": "python",
   "pygments_lexer": "ipython3",
   "version": "3.8.18"
  }
 },
 "nbformat": 4,
 "nbformat_minor": 2
}
