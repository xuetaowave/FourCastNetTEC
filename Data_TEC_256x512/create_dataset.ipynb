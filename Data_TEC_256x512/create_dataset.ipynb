{
 "cells": [
  {
   "cell_type": "code",
   "execution_count": 1,
   "metadata": {
    "ExecuteTime": {
     "end_time": "2024-02-16T19:09:08.467527100Z",
     "start_time": "2024-02-16T19:09:08.402604800Z"
    }
   },
   "outputs": [],
   "source": [
    "import numpy as np "
   ]
  },
  {
   "cell_type": "code",
   "execution_count": 2,
   "metadata": {
    "ExecuteTime": {
     "end_time": "2024-02-16T19:09:08.490961200Z",
     "start_time": "2024-02-16T19:09:08.465505300Z"
    }
   },
   "outputs": [
    {
     "name": "stdout",
     "output_type": "stream",
     "text": [
      "/home/cxt/work/fourcastnet_TEC/FourCastNetTEC/Data_TEC_256x512\n"
     ]
    }
   ],
   "source": [
    "import os\n",
    "print(os.getcwd())\n",
    "os.makedirs('train', exist_ok=True)\n",
    "os.makedirs('test', exist_ok=True)\n",
    "os.makedirs('out_of_sample', exist_ok=True)"
   ]
  },
  {
   "cell_type": "code",
   "execution_count": 3,
   "metadata": {
    "ExecuteTime": {
     "end_time": "2024-02-16T19:09:08.860211Z",
     "start_time": "2024-02-16T19:09:08.476232300Z"
    }
   },
   "outputs": [],
   "source": [
    "train_list = [2005, 2006, 2007, 2009, 2010, 2011, 2013]\n",
    "test_list = [2008, 2012]\n",
    "\n",
    "import shutil \n",
    "for year in test_list:\n",
    "    shutil.copy('{}.h5'.format(year), 'out_of_sample')    \n",
    "    shutil.move('{}.h5'.format(year), 'test')\n",
    "\n",
    "for year in train_list:\n",
    "    shutil.move('{}.h5'.format(year), 'train')"
   ]
  },
  {
   "cell_type": "code",
   "execution_count": 3,
   "metadata": {
    "ExecuteTime": {
     "end_time": "2024-02-16T19:09:08.904748800Z",
     "start_time": "2024-02-16T19:09:08.862210600Z"
    }
   },
   "outputs": [],
   "source": [
    "\n"
   ]
  }
 ],
 "metadata": {
  "kernelspec": {
   "display_name": "castnet",
   "language": "python",
   "name": "python3"
  },
  "language_info": {
   "codemirror_mode": {
    "name": "ipython",
    "version": 3
   },
   "file_extension": ".py",
   "mimetype": "text/x-python",
   "name": "python",
   "nbconvert_exporter": "python",
   "pygments_lexer": "ipython3",
   "version": "3.8.18"
  }
 },
 "nbformat": 4,
 "nbformat_minor": 2
}
